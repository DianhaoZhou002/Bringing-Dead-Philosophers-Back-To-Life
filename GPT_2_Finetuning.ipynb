{
  "cells": [
    {
      "cell_type": "markdown",
      "source": [
        "Author: Jun Seob Shim\n",
        "\n",
        "Creation Date: 29 Nov, 2023\n",
        "\n",
        "Last Update Date: 19 Dec, 2023"
      ],
      "metadata": {
        "id": "1CAAqzsNLgiD"
      }
    },
    {
      "cell_type": "markdown",
      "source": [
        "# **Model Training**"
      ],
      "metadata": {
        "id": "UAU1AJpwM0Rz"
      }
    },
    {
      "cell_type": "code",
      "execution_count": null,
      "metadata": {
        "scrolled": true,
        "id": "CYlOpZyeLDi1"
      },
      "outputs": [],
      "source": [
        "from transformers import TextDataset, DataCollatorForLanguageModeling\n",
        "from transformers import GPT2Tokenizer, GPT2LMHeadModel\n",
        "from transformers import Trainer, TrainingArguments"
      ]
    },
    {
      "cell_type": "code",
      "execution_count": null,
      "metadata": {
        "id": "g-Qkn7PtLDi2"
      },
      "outputs": [],
      "source": [
        "# load dataset\n",
        "def load_dataset(file_path, tokenizer, block_size = 128):\n",
        "    dataset = TextDataset(\n",
        "        tokenizer = tokenizer,\n",
        "        file_path = file_path,\n",
        "        block_size = block_size,\n",
        "    )\n",
        "    return dataset\n",
        "\n",
        "\n",
        "def load_data_collator(tokenizer, mlm = False):\n",
        "    data_collator = DataCollatorForLanguageModeling(\n",
        "        tokenizer=tokenizer,\n",
        "        mlm=mlm,\n",
        "    )\n",
        "    return data_collator\n",
        "\n",
        "# load pre-trained GPT-2 model, and fine tune\n",
        "def train(train_file_path,model_name,\n",
        "          output_dir,\n",
        "          overwrite_output_dir,\n",
        "          per_device_train_batch_size,\n",
        "          num_train_epochs,\n",
        "          save_steps):\n",
        "  tokenizer = GPT2Tokenizer.from_pretrained(model_name)\n",
        "  train_dataset = load_dataset(train_file_path, tokenizer)\n",
        "  data_collator = load_data_collator(tokenizer)\n",
        "\n",
        "  tokenizer.save_pretrained(output_dir)\n",
        "\n",
        "  model = GPT2LMHeadModel.from_pretrained(model_name)\n",
        "\n",
        "  model.save_pretrained(output_dir)\n",
        "\n",
        "  training_args = TrainingArguments(\n",
        "          output_dir=output_dir,\n",
        "          overwrite_output_dir=overwrite_output_dir,\n",
        "          per_device_train_batch_size=per_device_train_batch_size,\n",
        "          num_train_epochs=num_train_epochs,\n",
        "      )\n",
        "\n",
        "  trainer = Trainer(\n",
        "          model=model,\n",
        "          args=training_args,\n",
        "          data_collator=data_collator,\n",
        "          train_dataset=train_dataset,\n",
        "  )\n",
        "\n",
        "  trainer.train()\n",
        "\n",
        "  # save model for loading later (for inference)\n",
        "  trainer.save_model()"
      ]
    },
    {
      "cell_type": "code",
      "execution_count": null,
      "metadata": {
        "id": "I9g0UMzcLDi2"
      },
      "outputs": [],
      "source": [
        "# model parameters\n",
        "train_file_path = \"Sentences.txt\"\n",
        "model_name = 'gpt2-large'\n",
        "output_dir = 'gpt2-large_result'\n",
        "overwrite_output_dir = False\n",
        "per_device_train_batch_size = 8\n",
        "num_train_epochs = 5.0\n",
        "save_steps = 500"
      ]
    },
    {
      "cell_type": "code",
      "execution_count": null,
      "metadata": {
        "id": "i6fDx-_VLDi2",
        "outputId": "51a50578-44a6-4971-88c8-4f691ff67bf3"
      },
      "outputs": [
        {
          "name": "stderr",
          "output_type": "stream",
          "text": [
            "/ext3/miniconda3/lib/python3.11/site-packages/transformers/data/datasets/language_modeling.py:53: FutureWarning: This dataset will be removed from the library soon, preprocessing should be handled with the 🤗 Datasets library. You can have a look at this example script for pointers: https://github.com/huggingface/transformers/blob/main/examples/pytorch/language-modeling/run_mlm.py\n",
            "  warnings.warn(\n",
            "Detected kernel version 4.18.0, which is below the recommended minimum of 5.5.0; this can cause the process to hang. It is recommended to upgrade the kernel to the minimum version or higher.\n"
          ]
        },
        {
          "data": {
            "text/html": [
              "\n",
              "    <div>\n",
              "      \n",
              "      <progress value='10540' max='10540' style='width:300px; height:20px; vertical-align: middle;'></progress>\n",
              "      [10540/10540 2:07:44, Epoch 5/5]\n",
              "    </div>\n",
              "    <table border=\"1\" class=\"dataframe\">\n",
              "  <thead>\n",
              " <tr style=\"text-align: left;\">\n",
              "      <th>Step</th>\n",
              "      <th>Training Loss</th>\n",
              "    </tr>\n",
              "  </thead>\n",
              "  <tbody>\n",
              "    <tr>\n",
              "      <td>500</td>\n",
              "      <td>2.857900</td>\n",
              "    </tr>\n",
              "    <tr>\n",
              "      <td>1000</td>\n",
              "      <td>2.353700</td>\n",
              "    </tr>\n",
              "    <tr>\n",
              "      <td>1500</td>\n",
              "      <td>2.235300</td>\n",
              "    </tr>\n",
              "    <tr>\n",
              "      <td>2000</td>\n",
              "      <td>2.156200</td>\n",
              "    </tr>\n",
              "    <tr>\n",
              "      <td>2500</td>\n",
              "      <td>1.905900</td>\n",
              "    </tr>\n",
              "    <tr>\n",
              "      <td>3000</td>\n",
              "      <td>1.812200</td>\n",
              "    </tr>\n",
              "    <tr>\n",
              "      <td>3500</td>\n",
              "      <td>1.811200</td>\n",
              "    </tr>\n",
              "    <tr>\n",
              "      <td>4000</td>\n",
              "      <td>1.823500</td>\n",
              "    </tr>\n",
              "    <tr>\n",
              "      <td>4500</td>\n",
              "      <td>1.624700</td>\n",
              "    </tr>\n",
              "    <tr>\n",
              "      <td>5000</td>\n",
              "      <td>1.495500</td>\n",
              "    </tr>\n",
              "    <tr>\n",
              "      <td>5500</td>\n",
              "      <td>1.513300</td>\n",
              "    </tr>\n",
              "    <tr>\n",
              "      <td>6000</td>\n",
              "      <td>1.502700</td>\n",
              "    </tr>\n",
              "    <tr>\n",
              "      <td>6500</td>\n",
              "      <td>1.405900</td>\n",
              "    </tr>\n",
              "    <tr>\n",
              "      <td>7000</td>\n",
              "      <td>1.251300</td>\n",
              "    </tr>\n",
              "    <tr>\n",
              "      <td>7500</td>\n",
              "      <td>1.260900</td>\n",
              "    </tr>\n",
              "    <tr>\n",
              "      <td>8000</td>\n",
              "      <td>1.264500</td>\n",
              "    </tr>\n",
              "    <tr>\n",
              "      <td>8500</td>\n",
              "      <td>1.239500</td>\n",
              "    </tr>\n",
              "    <tr>\n",
              "      <td>9000</td>\n",
              "      <td>1.097000</td>\n",
              "    </tr>\n",
              "    <tr>\n",
              "      <td>9500</td>\n",
              "      <td>1.097900</td>\n",
              "    </tr>\n",
              "    <tr>\n",
              "      <td>10000</td>\n",
              "      <td>1.098200</td>\n",
              "    </tr>\n",
              "    <tr>\n",
              "      <td>10500</td>\n",
              "      <td>1.094700</td>\n",
              "    </tr>\n",
              "  </tbody>\n",
              "</table><p>"
            ],
            "text/plain": [
              "<IPython.core.display.HTML object>"
            ]
          },
          "metadata": {},
          "output_type": "display_data"
        }
      ],
      "source": [
        "# model fine tuning\n",
        "train(\n",
        "    train_file_path=train_file_path,\n",
        "    model_name=model_name,\n",
        "    output_dir=output_dir,\n",
        "    overwrite_output_dir=overwrite_output_dir,\n",
        "    per_device_train_batch_size=per_device_train_batch_size,\n",
        "    num_train_epochs=num_train_epochs,\n",
        "    save_steps=save_steps\n",
        ")"
      ]
    },
    {
      "cell_type": "markdown",
      "source": [
        "# **Inference and Evaluation**"
      ],
      "metadata": {
        "id": "DBpSaZoVNhmk"
      }
    },
    {
      "cell_type": "markdown",
      "source": [
        "**If you are only loading (and not training) model, you must still run the 'model parameters' cell in the above 'Model Training' section: to set GPT-2 base model size and to initialize reference to output_dir for saved model. No other cells need to be run in order to run the below cells for inference and evaluation.**"
      ],
      "metadata": {
        "id": "Nb4G38U6Nnov"
      }
    },
    {
      "cell_type": "code",
      "execution_count": null,
      "metadata": {
        "id": "vvv8NUxHLDi3"
      },
      "outputs": [],
      "source": [
        "from transformers import PreTrainedTokenizerFast, GPT2LMHeadModel, GPT2TokenizerFast, GPT2Tokenizer"
      ]
    },
    {
      "cell_type": "markdown",
      "source": [
        "## **Generating text from fine tuned model**"
      ],
      "metadata": {
        "id": "W82MA__9O3yi"
      }
    },
    {
      "cell_type": "code",
      "execution_count": null,
      "metadata": {
        "id": "J1XczAZkLDi4"
      },
      "outputs": [],
      "source": [
        "# functions to load model and prepare for text generation\n",
        "def load_model(model_path):\n",
        "    model = GPT2LMHeadModel.from_pretrained(model_path)\n",
        "    return model\n",
        "\n",
        "def load_tokenizer(tokenizer_path):\n",
        "    tokenizer = GPT2Tokenizer.from_pretrained(tokenizer_path)\n",
        "    return tokenizer\n",
        "\n",
        "def generate_text(sequence, max_length):\n",
        "    model_path = output_dir\n",
        "    model = load_model(model_path)\n",
        "    tokenizer = load_tokenizer(model_path)\n",
        "    ids = tokenizer.encode(f'{sequence}', return_tensors='pt')\n",
        "    final_outputs = model.generate(\n",
        "        ids,\n",
        "        #do_sample=True,\n",
        "        max_length=max_length,\n",
        "        num_beams = 5,\n",
        "        no_repeat_ngram_size = 5,\n",
        "        pad_token_id=model.config.eos_token_id,\n",
        "        #top_k=50,\n",
        "        #top_p=0.95,\n",
        "        early_stopping = True\n",
        "    )\n",
        "    print(tokenizer.decode(final_outputs[0], skip_special_tokens=True))"
      ]
    },
    {
      "cell_type": "code",
      "execution_count": null,
      "metadata": {
        "id": "9SY6R7nWLDi4"
      },
      "outputs": [],
      "source": [
        "# loading model and initializing parameters for text generation\n",
        "model_path = output_dir\n",
        "model = load_model(model_path)\n",
        "tokenizer = load_tokenizer(model_path)\n",
        "\n",
        "# max token length for output text\n",
        "max_length = 500\n",
        "\n",
        "# function to generate output based on string input (fine tuned model)\n",
        "def finetune_generate(sequence):\n",
        "    ids = tokenizer.encode(sequence, return_tensors = 'pt')\n",
        "    output = model.generate(\n",
        "        ids,\n",
        "        max_length=max_length,\n",
        "        num_beams = 5,\n",
        "        no_repeat_ngram_size = 5,\n",
        "        pad_token_id=model.config.eos_token_id,\n",
        "        early_stopping = True\n",
        "    )\n",
        "    return tokenizer.decode(output[0], skip_special_tokens=True)"
      ]
    },
    {
      "cell_type": "code",
      "execution_count": null,
      "metadata": {
        "id": "Q45COCBGLDi5"
      },
      "outputs": [],
      "source": [
        "# read prompts from text file into list, each element in list is one prompt\n",
        "prompts_file = open('short_prompts.txt', 'r') # currently set to 'short_prompts.txt,' change to 'output.txt' for longer prompts curated with prompt engineering (see 'BERT'prompt_engineer'.ipynb')\n",
        "prompts_list = prompts_file.readlines()\n",
        "prompts_file.close()\n",
        "\n",
        "# open empty file for saving outputs\n",
        "generated_finetune = open('generated_finetuned.txt', 'w')\n",
        "\n",
        "for item in prompts_list:\n",
        "    finetuned_text = finetune_generate(item)\n",
        "    # add spacing between sentences\n",
        "    spaced_finetuned = finetuned_text.replace(\"\\n\", \"\").replace(\".\", \". \").replace(\"?\", \"? \").replace(\"!\", \"! \")\n",
        "    # add newline to separate each output\n",
        "    generated_finetune.write(spaced_finetuned + \"\\n\")\n",
        "\n",
        "generated_finetune.close()"
      ]
    },
    {
      "cell_type": "markdown",
      "source": [
        "## **Generating text from standard base GPT-2 model**"
      ],
      "metadata": {
        "id": "rT785h9_QH0l"
      }
    },
    {
      "cell_type": "code",
      "execution_count": null,
      "metadata": {
        "id": "MW5_yuUbLDi5"
      },
      "outputs": [],
      "source": [
        "# selecting the same pretrained model size that was fine tuned above (currently set to 'gpt2-large')\n",
        "gpt_size = model_name\n",
        "\n",
        "standard_tokenizer = GPT2Tokenizer.from_pretrained(gpt_size)\n",
        "standard_model = GPT2LMHeadModel.from_pretrained(gpt_size , pad_token_id = standard_tokenizer.eos_token_id )\n",
        "standard_tokenizer.decode(standard_tokenizer.eos_token_id)\n",
        "\n",
        "def standard_generate(sequence):\n",
        "    input_ids = standard_tokenizer.encode(sequence , return_tensors = 'pt')\n",
        "    output = standard_model.generate(input_ids, max_length = max_length, num_beams = 5,no_repeat_ngram_size  = 5 , early_stopping = True)\n",
        "\n",
        "    return standard_tokenizer.decode(output[0] , skip_special_tokens = True)"
      ]
    },
    {
      "cell_type": "code",
      "execution_count": null,
      "metadata": {
        "id": "gqXkjdibLDi5"
      },
      "outputs": [],
      "source": [
        "# save in separate file for comparison\n",
        "generated_base = open('generated_base.txt', 'w')\n",
        "\n",
        "for item in prompts_list:\n",
        "    base_text = standard_generate(item)\n",
        "    spaced_base = base_text.replace(\"\\n\", \"\").replace(\".\", \". \").replace(\"?\", \"? \").replace(\"!\", \"! \")\n",
        "    generated_base.write(spaced_base + \"\\n\")\n",
        "\n",
        "generated_base.close()"
      ]
    }
  ],
  "metadata": {
    "colab": {
      "provenance": []
    },
    "kernelspec": {
      "display_name": "my_env",
      "language": "python",
      "name": "my_env"
    },
    "language_info": {
      "codemirror_mode": {
        "name": "ipython",
        "version": 3
      },
      "file_extension": ".py",
      "mimetype": "text/x-python",
      "name": "python",
      "nbconvert_exporter": "python",
      "pygments_lexer": "ipython3",
      "version": "3.11.5"
    }
  },
  "nbformat": 4,
  "nbformat_minor": 0
}