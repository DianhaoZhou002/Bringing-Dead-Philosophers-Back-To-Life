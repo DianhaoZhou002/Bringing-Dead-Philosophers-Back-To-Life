{
  "nbformat": 4,
  "nbformat_minor": 0,
  "metadata": {
    "colab": {
      "provenance": []
    },
    "kernelspec": {
      "name": "python3",
      "display_name": "Python 3"
    },
    "language_info": {
      "name": "python"
    }
  },
  "cells": [
    {
      "cell_type": "markdown",
      "source": [
        "Author: Simran Singh\n",
        "\n",
        "Date of Creation: Dec. 18th, 2023\n",
        "\n",
        "Last Update: Dec. 18th, 2023"
      ],
      "metadata": {
        "id": "ymsjEMP9jifg"
      }
    },
    {
      "cell_type": "code",
      "source": [
        "def read_prompt(f):\n",
        "    output = \"\"\n",
        "    first = True\n",
        "    while True:\n",
        "        line = f.readline()\n",
        "        line = line.strip()\n",
        "        if line == \"||\":\n",
        "            output += \"\\n\"\n",
        "            return line, output\n",
        "        elif not line:\n",
        "            return line, output\n",
        "        # start of a new prompt\n",
        "        if first:\n",
        "            output = \"I have a question: \"\n",
        "            output += line\n",
        "            output += \" and I find these texts to be relevant: \"\n",
        "            first = False\n",
        "        else:\n",
        "            output += line\n",
        "            output += \" \"\n",
        "\n",
        "with open(\"prompts.txt\", \"r\") as f:\n",
        "    output1 = \"\"\n",
        "    while True:\n",
        "        line, prompt = read_prompt(f)\n",
        "        output1 += prompt\n",
        "        #print(line, prompt)\n",
        "        if not line:\n",
        "            break\n",
        "    with open(\"output.txt\", \"w\") as f_out:\n",
        "        f_out.write(output1)"
      ],
      "metadata": {
        "id": "KKWH9OyPmdCt"
      },
      "execution_count": null,
      "outputs": []
    }
  ]
}